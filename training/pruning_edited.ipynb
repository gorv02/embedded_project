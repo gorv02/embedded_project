{
  "cells": [
    {
      "cell_type": "code",
      "execution_count": null,
      "metadata": {
        "colab": {
          "base_uri": "https://localhost:8080/"
        },
        "id": "puD8Q38jVGMT",
        "outputId": "b647bd3e-a617-431c-ae0f-f5ba500266ff"
      },
      "outputs": [
        {
          "output_type": "stream",
          "name": "stdout",
          "text": [
            "Looking in indexes: https://pypi.org/simple, https://us-python.pkg.dev/colab-wheels/public/simple/\n",
            "Collecting tensorflow_model_optimization\n",
            "  Downloading tensorflow_model_optimization-0.7.3-py2.py3-none-any.whl (238 kB)\n",
            "\u001b[K     |████████████████████████████████| 238 kB 4.0 MB/s \n",
            "\u001b[?25hRequirement already satisfied: six~=1.10 in /usr/local/lib/python3.7/dist-packages (from tensorflow_model_optimization) (1.15.0)\n",
            "Requirement already satisfied: dm-tree~=0.1.1 in /usr/local/lib/python3.7/dist-packages (from tensorflow_model_optimization) (0.1.7)\n",
            "Requirement already satisfied: numpy~=1.14 in /usr/local/lib/python3.7/dist-packages (from tensorflow_model_optimization) (1.21.6)\n",
            "Installing collected packages: tensorflow-model-optimization\n",
            "Successfully installed tensorflow-model-optimization-0.7.3\n"
          ]
        }
      ],
      "source": [
        "!pip install tensorflow_model_optimization"
      ]
    },
    {
      "cell_type": "code",
      "execution_count": null,
      "metadata": {
        "id": "xD4TeYVUn56n"
      },
      "outputs": [],
      "source": [
        "import tempfile\n",
        "import os\n",
        "import sys\n",
        "\n",
        "import tensorflow as tf\n",
        "import numpy as np\n",
        "\n",
        "from tensorflow import keras\n",
        "\n",
        "%load_ext tensorboard\n",
        "import math\n",
        "\n",
        "np.set_printoptions(threshold=sys.maxsize)"
      ]
    },
    {
      "cell_type": "code",
      "execution_count": null,
      "metadata": {
        "colab": {
          "base_uri": "https://localhost:8080/"
        },
        "id": "Hir0sndeoGes",
        "outputId": "a5f8baf3-fa46-4df3-8430-392afb9945f7"
      },
      "outputs": [
        {
          "output_type": "stream",
          "name": "stdout",
          "text": [
            "(60000, 5, 5) (10000, 5, 5)\n"
          ]
        }
      ],
      "source": [
        "# Load MNIST dataset\n",
        "red_data = 5\n",
        "mnist = keras.datasets.mnist\n",
        "(train_images, train_labels), (test_images, test_labels) = mnist.load_data()\n",
        "btest_images = test_images\n",
        "# Normalize the input image so that each pixel value is between 0 and 1.\n",
        "train_images = train_images / 255.0\n",
        "test_images = test_images / 255.0\n",
        "\n",
        "train_images = np.expand_dims(train_images, axis=-1)\n",
        "train_images = tf.image.resize(train_images, [red_data,red_data])\n",
        "train_images = np.squeeze(train_images, axis=(3,))\n",
        "# print(train_images.shape)\n",
        "test_images = np.expand_dims(test_images, axis=-1)\n",
        "test_images = tf.image.resize(test_images, [red_data,red_data])\n",
        "test_images = np.squeeze(test_images, axis=(3,))\n",
        "\n",
        "print(train_images.shape, test_images.shape)\n",
        "# Define the model architecture.\n"
      ]
    },
    {
      "cell_type": "code",
      "execution_count": null,
      "metadata": {
        "colab": {
          "base_uri": "https://localhost:8080/"
        },
        "id": "lO3mrocuDgN5",
        "outputId": "36fe9ba6-c168-4d6d-d67b-86a3860cd13d"
      },
      "outputs": [
        {
          "output_type": "stream",
          "name": "stdout",
          "text": [
            "Epoch 1/10\n",
            "1688/1688 [==============================] - 5s 3ms/step - loss: 1.6009 - accuracy: 0.4683 - val_loss: 1.1651 - val_accuracy: 0.6158\n",
            "Epoch 2/10\n",
            "1688/1688 [==============================] - 4s 2ms/step - loss: 1.1642 - accuracy: 0.6092 - val_loss: 1.0704 - val_accuracy: 0.6392\n",
            "Epoch 3/10\n",
            "1688/1688 [==============================] - 8s 4ms/step - loss: 1.1227 - accuracy: 0.6215 - val_loss: 1.0448 - val_accuracy: 0.6443\n",
            "Epoch 4/10\n",
            "1688/1688 [==============================] - 9s 5ms/step - loss: 1.1057 - accuracy: 0.6267 - val_loss: 1.0295 - val_accuracy: 0.6490\n",
            "Epoch 5/10\n",
            "1688/1688 [==============================] - 7s 4ms/step - loss: 1.0948 - accuracy: 0.6296 - val_loss: 1.0215 - val_accuracy: 0.6510\n",
            "Epoch 6/10\n",
            "1688/1688 [==============================] - 4s 2ms/step - loss: 1.0868 - accuracy: 0.6328 - val_loss: 1.0173 - val_accuracy: 0.6507\n",
            "Epoch 7/10\n",
            "1688/1688 [==============================] - 4s 2ms/step - loss: 1.0806 - accuracy: 0.6342 - val_loss: 1.0092 - val_accuracy: 0.6560\n",
            "Epoch 8/10\n",
            "1688/1688 [==============================] - 4s 2ms/step - loss: 1.0749 - accuracy: 0.6365 - val_loss: 1.0055 - val_accuracy: 0.6533\n",
            "Epoch 9/10\n",
            "1688/1688 [==============================] - 4s 2ms/step - loss: 1.0700 - accuracy: 0.6390 - val_loss: 0.9993 - val_accuracy: 0.6545\n",
            "Epoch 10/10\n",
            "1688/1688 [==============================] - 4s 2ms/step - loss: 1.0653 - accuracy: 0.6403 - val_loss: 0.9951 - val_accuracy: 0.6582\n"
          ]
        },
        {
          "output_type": "execute_result",
          "data": {
            "text/plain": [
              "<keras.callbacks.History at 0x7fc1073e3110>"
            ]
          },
          "metadata": {},
          "execution_count": 5
        }
      ],
      "source": [
        "model = keras.Sequential([\n",
        "  tf.keras.layers.Flatten(input_shape=(red_data, red_data)),\n",
        "  tf.keras.layers.Dense(10, activation='relu'),\n",
        "  tf.keras.layers.Dense(10)\n",
        "])\n",
        "\n",
        "# Train the digit classification model\n",
        "model.compile(optimizer='adam',\n",
        "              loss=tf.keras.losses.SparseCategoricalCrossentropy(from_logits=True),\n",
        "              metrics=['accuracy'])\n",
        "\n",
        "model.fit(\n",
        "  train_images,\n",
        "  train_labels,\n",
        "  epochs=10,\n",
        "  validation_split=0.1,\n",
        ")"
      ]
    },
    {
      "cell_type": "code",
      "execution_count": null,
      "metadata": {
        "colab": {
          "base_uri": "https://localhost:8080/"
        },
        "id": "eXxRo7WhppGc",
        "outputId": "ccfaa50c-aa24-4e48-d9e8-d3302a4204d5"
      },
      "outputs": [
        {
          "output_type": "stream",
          "name": "stdout",
          "text": [
            "Baseline test accuracy: 0.6527000069618225\n",
            "Saved baseline model to: /tmp/tmp3wztjumi.h5\n"
          ]
        }
      ],
      "source": [
        "_, baseline_model_accuracy = model.evaluate(\n",
        "    test_images, test_labels, verbose=0)\n",
        "\n",
        "print('Baseline test accuracy:', baseline_model_accuracy)\n",
        "\n",
        "_, keras_file = tempfile.mkstemp('.h5')\n",
        "tf.keras.models.save_model(model, keras_file, include_optimizer=False)\n",
        "print('Saved baseline model to:', keras_file)"
      ]
    },
    {
      "cell_type": "code",
      "execution_count": null,
      "metadata": {
        "colab": {
          "base_uri": "https://localhost:8080/"
        },
        "id": "ZbI-HV2loqWz",
        "outputId": "45ae7875-828f-4823-f893-8b4f530ac316"
      },
      "outputs": [
        {
          "output_type": "stream",
          "name": "stdout",
          "text": [
            "Epoch 1/2\n",
            "  1/422 [..............................] - ETA: 14:30 - loss: 1.0758 - accuracy: 0.6641"
          ]
        },
        {
          "output_type": "stream",
          "name": "stderr",
          "text": [
            "WARNING:tensorflow:Callback method `on_train_batch_end` is slow compared to the batch time (batch time: 0.0023s vs `on_train_batch_end` time: 0.0058s). Check your callbacks.\n"
          ]
        },
        {
          "output_type": "stream",
          "name": "stdout",
          "text": [
            "422/422 [==============================] - 3s 3ms/step - loss: 1.8391 - accuracy: 0.3201 - val_loss: 2.0921 - val_accuracy: 0.1365\n",
            "Epoch 2/2\n",
            "422/422 [==============================] - 1s 3ms/step - loss: 2.1432 - accuracy: 0.2034 - val_loss: 2.1335 - val_accuracy: 0.2360\n"
          ]
        },
        {
          "output_type": "execute_result",
          "data": {
            "text/plain": [
              "<keras.callbacks.History at 0x7fc1045fbd50>"
            ]
          },
          "metadata": {},
          "execution_count": 7
        }
      ],
      "source": [
        "\n",
        "import tensorflow_model_optimization as tfmot\n",
        "\n",
        "prune_low_magnitude = tfmot.sparsity.keras.prune_low_magnitude\n",
        "\n",
        "# Compute end step to finish pruning after 2 epochs.\n",
        "batch_size = 128\n",
        "epochs = 2\n",
        "validation_split = 0.1 # 10% of training set will be used for validation set.\n",
        "\n",
        "num_images = train_images.shape[0] * (1 - validation_split)\n",
        "end_step = np.ceil(num_images / batch_size).astype(np.int32) * epochs\n",
        "\n",
        "# Define model for pruning.\n",
        "pruning_params = {\n",
        "      'pruning_schedule': tfmot.sparsity.keras.PolynomialDecay(initial_sparsity=0.50,\n",
        "                                                               final_sparsity=0.91,\n",
        "                                                               begin_step=0,\n",
        "                                                               end_step=end_step)\n",
        "}\n",
        "\n",
        "model_for_pruning = prune_low_magnitude(model, **pruning_params)\n",
        "# `prune_low_magnitude` requires a recompile.\n",
        "model_for_pruning.compile(optimizer='adam',\n",
        "              loss=tf.keras.losses.SparseCategoricalCrossentropy(from_logits=True),\n",
        "              metrics=['accuracy'])\n",
        "\n",
        "# model_for_pruning.summary()\n",
        "logdir = tempfile.mkdtemp()\n",
        "\n",
        "callbacks = [\n",
        "  tfmot.sparsity.keras.UpdatePruningStep(),\n",
        "  tfmot.sparsity.keras.PruningSummaries(log_dir=logdir),\n",
        "]\n",
        "\n",
        "model_for_pruning.fit(train_images, train_labels,\n",
        "                  batch_size=batch_size, epochs=epochs, validation_split=validation_split,\n",
        "                  callbacks=callbacks)"
      ]
    },
    {
      "cell_type": "code",
      "execution_count": null,
      "metadata": {
        "colab": {
          "base_uri": "https://localhost:8080/"
        },
        "id": "t-gLGQ2yph1E",
        "outputId": "dac45339-a07a-44fd-9825-34707796e1fd"
      },
      "outputs": [
        {
          "output_type": "stream",
          "name": "stdout",
          "text": [
            "Baseline test accuracy: 0.6527000069618225\n",
            "Pruned test accuracy: 0.23999999463558197\n"
          ]
        }
      ],
      "source": [
        "_, model_for_pruning_accuracy = model_for_pruning.evaluate(\n",
        "   test_images, test_labels, verbose=0)\n",
        "\n",
        "print('Baseline test accuracy:',baseline_model_accuracy)\n",
        "print('Pruned test accuracy:', model_for_pruning_accuracy)"
      ]
    },
    {
      "cell_type": "code",
      "execution_count": null,
      "metadata": {
        "id": "NTkC5FwqYiZa"
      },
      "outputs": [],
      "source": [
        "def make_newArray(arr) :\n",
        "  m, n = arr.shape\n",
        "  x = 0\n",
        "  for i in range(m) :\n",
        "    for j in range(n) :\n",
        "      arr[i][j] = int(math.floor(arr[i][j]*100))\n",
        "      x = max(x, abs(arr[i][j]))\n",
        "  print(x)\n",
        "  return arr\n",
        "\n",
        "def make_int_bias(arr) :\n",
        "  m = arr.shape[0]\n",
        "  li = []\n",
        "  for i in range(m) :\n",
        "    li.append(int(math.floor(arr[i]*10000)))\n",
        "  return li\n"
      ]
    },
    {
      "cell_type": "markdown",
      "metadata": {
        "id": "Xxg0imMPa-0h"
      },
      "source": [
        "**Multiply bias by 10000 and weights by 100**"
      ]
    },
    {
      "cell_type": "code",
      "execution_count": null,
      "metadata": {
        "id": "OVo5v-uSfyX8"
      },
      "outputs": [],
      "source": [
        "def convert_matrix_to_csr(sparse_matrix) :\n",
        "  m, n = sparse_matrix.shape\n",
        "  nnz = 0\n",
        "  values = []\n",
        "  column = []\n",
        "  row_ptr = []\n",
        "  for r in range(m) :\n",
        "    row_ptr.append(nnz)\n",
        "    for c in range(n) :\n",
        "      if(sparse_matrix[r][c] != 0) :\n",
        "        nnz = nnz + 1\n",
        "        values.append(int(sparse_matrix[r][c]))\n",
        "        column.append(c)\n",
        "  row_ptr.append(nnz)\n",
        "  return nnz, values, column, row_ptr\n"
      ]
    },
    {
      "cell_type": "code",
      "execution_count": null,
      "metadata": {
        "colab": {
          "base_uri": "https://localhost:8080/"
        },
        "id": "lV7a1mCerw8C",
        "outputId": "e0d1d0e2-38bc-4aa6-f850-78d1c20d49e2"
      },
      "outputs": [
        {
          "output_type": "stream",
          "name": "stdout",
          "text": [
            "575.0\n",
            "347.0\n",
            "(10, 25)\n"
          ]
        }
      ],
      "source": [
        "weights = model_for_pruning.get_weights()\n",
        "first_layer_weights = weights[1]\n",
        "first_layer_biases = weights[2]\n",
        "first_layer_weights_mask = weights[3]\n",
        "first_layer_weights = first_layer_weights * first_layer_weights_mask\n",
        "second_layer_weights = weights[6]\n",
        "second_layer_biases = weights[7]\n",
        "second_layer_weights_mask = weights[8]\n",
        "second_layer_weights = second_layer_weights * second_layer_weights_mask\n",
        "first_layer_weights = make_newArray(first_layer_weights.T)\n",
        "second_layer_weights = make_newArray(second_layer_weights.T)\n",
        "\n",
        "# first_layer_weights_transposed = first_layer_weights.T\n",
        "# second_layer_weights_transposed = second_layer_weights.T\n",
        "\n",
        "\n",
        "first_layer_biases = list(make_int_bias(first_layer_biases))\n",
        "second_layer_biases = list(make_int_bias(second_layer_biases))\n",
        "\n",
        "print(first_layer_weights.shape)\n",
        "# print(first_layer_biases, second_layer_biases)"
      ]
    },
    {
      "cell_type": "code",
      "execution_count": null,
      "metadata": {
        "colab": {
          "base_uri": "https://localhost:8080/"
        },
        "id": "WiTiTiJAiLra",
        "outputId": "869bc152-78a6-4a39-8bf7-a53ae14d4e67"
      },
      "outputs": [
        {
          "output_type": "stream",
          "name": "stdout",
          "text": [
            "23\n",
            "[-279, -575, -339, -421, -306, 231, 321, -224, 262, 326, 253, 236, -425, -285, -250, -237, 313, 260, 368, -290, 253, 216, 248]\n",
            "[1, 2, 3, 15, 19, 1, 2, 10, 13, 15, 3, 9, 9, 15, 3, 5, 9, 5, 19, 2, 5, 20, 22]\n",
            "[0, 5, 8, 8, 10, 12, 14, 17, 18, 19, 23]\n",
            "[4460, 2749, 3702, -5, 3093, 5208, 1303, -21, -107, 470]\n",
            "9\n",
            "[-189, -347, -161, -157, -155, -151, -187, -170, -319]\n",
            "[2, 3, 4, 0, 5, 0, 6, 8, 9]\n",
            "[0, 1, 3, 4, 4, 4, 5, 9, 9, 9, 9]\n",
            "[3571, 9068, 1471, -1424, -2008, 1380, 4855, -1836, -6230, -2663]\n"
          ]
        }
      ],
      "source": [
        "nnzf, valuesf, columnf, row_ptrf = convert_matrix_to_csr(first_layer_weights)\n",
        "nnzs, valuess, columns, row_ptrs = convert_matrix_to_csr(second_layer_weights)\n",
        "\n",
        "print(nnzf)\n",
        "print(valuesf)\n",
        "print(columnf)\n",
        "print(row_ptrf)\n",
        "\n",
        "print(first_layer_biases)\n",
        "print(nnzs)\n",
        "print(valuess)\n",
        "print(columns)\n",
        "print(row_ptrs)\n",
        "\n",
        "print(second_layer_biases)"
      ]
    },
    {
      "cell_type": "code",
      "execution_count": null,
      "metadata": {
        "id": "kTl5ZnybUqWo"
      },
      "outputs": [],
      "source": []
    },
    {
      "cell_type": "code",
      "source": [
        "ynew = model_for_pruning.predict(test_images,verbose = 0)\n",
        "count = 0\n",
        "for m in range(ynew.shape[0]) :\n",
        "  if(np.argmax(ynew[m])==test_labels[m]) :\n",
        "    print(ynew[m])\n",
        "    print(test_labels[m])\n",
        "    print(m)\n",
        "    count = count + 1\n",
        "  if(count >= 5) : break"
      ],
      "metadata": {
        "colab": {
          "base_uri": "https://localhost:8080/"
        },
        "id": "i2wT5eeNZp6X",
        "outputId": "8fce8c21-788d-46ea-e161-acad3d15877a"
      },
      "execution_count": null,
      "outputs": [
        {
          "output_type": "stream",
          "name": "stdout",
          "text": [
            "[-0.3400477   0.40981376 -0.54947656 -0.14236152 -0.20071408 -0.66507477\n",
            " -0.5773837  -0.18351334 -0.62297136 -0.26628986]\n",
            "1\n",
            "2\n",
            "[-0.3400477   0.40981376 -0.54947656 -0.14236152 -0.20071408 -0.66507477\n",
            " -1.0762448  -0.18351334 -0.62297136 -0.26628986]\n",
            "1\n",
            "5\n",
            "[-0.3400477   0.40981376 -0.54947656 -0.14236152 -0.20071408 -0.66507477\n",
            " -0.5773837  -0.18351334 -0.62297136 -0.26628986]\n",
            "1\n",
            "14\n",
            "[-0.3400477  -1.5185944   0.1471168  -0.14236152 -0.20071408 -0.66507477\n",
            "  0.24293071 -0.18351334 -0.62297136 -0.26628986]\n",
            "6\n",
            "21\n",
            "[-0.3400477   0.40981376 -0.54947656 -0.14236152 -0.20071408 -0.66507477\n",
            " -0.5773837  -0.18351334 -0.62297136 -0.26628986]\n",
            "1\n",
            "29\n"
          ]
        }
      ]
    },
    {
      "cell_type": "code",
      "execution_count": null,
      "metadata": {
        "colab": {
          "base_uri": "https://localhost:8080/"
        },
        "id": "e0h1xkKEUuDb",
        "outputId": "a77be4f0-c2ec-4192-fad2-a0ec207fb238"
      },
      "outputs": [
        {
          "output_type": "stream",
          "name": "stdout",
          "text": [
            "[0, 0, 2, 0, 0, 0, 2, 0, 93, 0, 0, 0, 0, 17, 0, 0, 99, 91, 97, 0, 0, 0, 0, 0, 0]\n"
          ]
        }
      ],
      "source": [
        "\n",
        "# print('Baseline test accuracy:',baseline_model_accuracy)\n",
        "# print('Pruned test accuracy:', model_for_pruning_accuracy)\n",
        "# ynew = model_for_pruning.predict(test_images)\n",
        "x = list(test_images[82].flatten())\n",
        "\n",
        "def pp(x) :\n",
        "  p = []\n",
        "  for i in range(len(x)) :\n",
        "    x[i] = int(x[i]*100)\n",
        "    p.append(x[i])\n",
        "  print(p)\n",
        "\n",
        "pp(x)"
      ]
    },
    {
      "cell_type": "code",
      "source": [
        "# def rowMul(rowIndex, nnz, rowPtr, col, val, vector) :\n",
        "#   rowVal = 0\n",
        "#   i = rowPtr[rowIndex]\n",
        "#   while i < rowPtr[rowIndex + 1] :\n",
        "#     rowVal += vector[col[i]] * val[i]\n",
        "#     i = i + 1\n",
        "#   return rowVal\n",
        "\n",
        "# def RELU(z) :\n",
        "#   if z < 0 : return 0\n",
        "#   return z/100\n",
        "\n",
        "# input_image = [0, 0, 0, 0, 0, 0, 0, 0, 0, 0, 0, 0, 0, 0, 0, 0, 0, 0, 0, 0, 0, 0, 0, 10, 92, 62, 67, 42, 0, 0, 0, 0, 18, 88, 34, 13, 0, 30, 48, 0, 0, 0, 99, 0, 0, 0, 0, 0, 99, 0, 0, 0, 58, 0, 0, 0, 0, 0, 93, 0, 0, 0, 89, 0, 0, 0, 25, 87, 24, 0, 0, 0, 18, 84, 90, 86, 61, 2, 0, 0, 0, 0, 0, 0, 0, 0, 0, 0, 0, 0, 0, 0, 0, 0, 0, 0, 0, 0, 0, 0]\n",
        "# #for first layer\n",
        "# output_first = []\n",
        "# for i in range(10) :\n",
        "#   output_first.append(RELU(rowMul(i, nnzf, row_ptrf, columnf, valuesf, input_image) + first_layer_biases[i]))\n",
        "# #for second layer\n",
        "# output_second = []\n",
        "# for i in range(10) :\n",
        "#   output_second.append(rowMul(i, nnzs, row_ptrs, columns, valuess, output_first) + second_layer_biases[i])\n",
        "\n",
        "# print(output_second)"
      ],
      "metadata": {
        "id": "-VvAOGAXMz20"
      },
      "execution_count": null,
      "outputs": []
    },
    {
      "cell_type": "code",
      "source": [
        "import matplotlib.pyplot as plt\n",
        "testni = 82\n",
        "plt.imshow(btest_images[testni])\n",
        "plt.show()\n",
        "plt.imshow(test_images[testni])\n",
        "#Actually displaying the plot if you are not in interactive mode\n",
        "plt.show()\n",
        "print(ynew[testni], test_labels[testni])"
      ],
      "metadata": {
        "id": "UWG9ZHmuF_Bd",
        "colab": {
          "base_uri": "https://localhost:8080/",
          "height": 549
        },
        "outputId": "538d4234-7921-4073-8bd8-e5dc0ab0ae91"
      },
      "execution_count": null,
      "outputs": [
        {
          "output_type": "display_data",
          "data": {
            "text/plain": [
              "<Figure size 432x288 with 1 Axes>"
            ],
            "image/png": "[encoded data removed]"
          },
          "metadata": {
            "needs_background": "light"
          }
        },
        {
          "output_type": "display_data",
          "data": {
            "text/plain": [
              "<Figure size 432x288 with 1 Axes>"
            ],
            "image/png": "[encoded data removed]"
          },
          "metadata": {
            "needs_background": "light"
          }
        },
        {
          "output_type": "stream",
          "name": "stdout",
          "text": [
            "[-0.3400477  -1.2635955  -0.3148119  -0.14236152 -0.20071408 -0.66507477\n",
            " -0.16214335 -0.18351334 -0.62297136 -0.26628986] 2\n"
          ]
        }
      ]
    },
    {
      "cell_type": "code",
      "source": [
        "from matplotlib import test\n",
        "\n",
        "target = [0, 0, 2, 0, 0, 0, 2, 0, 93, 0, 0, 0, 0, 17, 0, 0, 99, 91, 97, 0, 0, 0, 0, 0, 0]\n",
        "for i in range(100) :\n",
        "  p = []\n",
        "  x = list(test_images[i].flatten())\n",
        "  for j in range(25) :\n",
        "    p.append(int(x[j]*100))\n",
        "  if p==target: print(i)"
      ],
      "metadata": {
        "colab": {
          "base_uri": "https://localhost:8080/"
        },
        "id": "6BM7TFvnG2yx",
        "outputId": "08d1ac9f-ce28-428d-e0a4-1a9aeacb7e2d"
      },
      "execution_count": null,
      "outputs": [
        {
          "output_type": "stream",
          "name": "stdout",
          "text": [
            "82\n"
          ]
        }
      ]
    }
  ],
  "metadata": {
    "colab": {
      "provenance": []
    },
    "kernelspec": {
      "display_name": "Python 3",
      "name": "python3"
    },
    "language_info": {
      "name": "python"
    }
  },
  "nbformat": 4,
  "nbformat_minor": 0
}